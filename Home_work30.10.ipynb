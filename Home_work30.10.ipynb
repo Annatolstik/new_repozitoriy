{
 "cells": [
  {
   "cell_type": "code",
   "execution_count": null,
   "id": "e1b6fcb8",
   "metadata": {},
   "outputs": [],
   "source": [
    "#Tolstik_Anna"
   ]
  },
  {
   "cell_type": "code",
   "execution_count": 2,
   "id": "d69f5995",
   "metadata": {},
   "outputs": [],
   "source": [
    "import pandas as pd\n",
    "import numpy as np\n",
    "import scipy\n",
    "\n",
    "from scipy import stats\n",
    "import scipy.stats as ss\n",
    "import statsmodels.api as sm\n",
    "import statsmodels.formula.api as smf\n",
    "from statsmodels.stats.api import anova_lm\n",
    "from statsmodels.stats.multicomp import (pairwise_tukeyhsd,\n",
    "                                         MultiComparison)\n",
    "import matplotlib.pyplot as plt\n",
    "import seaborn as sns"
   ]
  },
  {
   "cell_type": "code",
   "execution_count": 44,
   "id": "227e159f",
   "metadata": {},
   "outputs": [
    {
     "name": "stdout",
     "output_type": "stream",
     "text": [
      "Requirement already satisfied: pingouin in c:\\users\\adm\\anaconda3\\lib\\site-packages (0.5.2)\n",
      "Requirement already satisfied: outdated in c:\\users\\adm\\anaconda3\\lib\\site-packages (from pingouin) (0.2.1)\n",
      "Requirement already satisfied: matplotlib>=3.0.2 in c:\\users\\adm\\anaconda3\\lib\\site-packages (from pingouin) (3.5.1)\n",
      "Requirement already satisfied: numpy>=1.19 in c:\\users\\adm\\anaconda3\\lib\\site-packages (from pingouin) (1.21.5)\n",
      "Requirement already satisfied: statsmodels>=0.13 in c:\\users\\adm\\anaconda3\\lib\\site-packages (from pingouin) (0.13.2)\n",
      "Requirement already satisfied: pandas-flavor>=0.2.0 in c:\\users\\adm\\anaconda3\\lib\\site-packages (from pingouin) (0.3.0)\n",
      "Requirement already satisfied: scikit-learn<1.1.0 in c:\\users\\adm\\anaconda3\\lib\\site-packages (from pingouin) (1.0.2)\n",
      "Requirement already satisfied: seaborn>=0.11 in c:\\users\\adm\\anaconda3\\lib\\site-packages (from pingouin) (0.11.2)\n",
      "Requirement already satisfied: tabulate in c:\\users\\adm\\anaconda3\\lib\\site-packages (from pingouin) (0.8.9)\n",
      "Requirement already satisfied: pandas>=1.0 in c:\\users\\adm\\anaconda3\\lib\\site-packages (from pingouin) (1.4.2)\n",
      "Requirement already satisfied: scipy>=1.7 in c:\\users\\adm\\anaconda3\\lib\\site-packages (from pingouin) (1.7.3)\n",
      "Requirement already satisfied: packaging>=20.0 in c:\\users\\adm\\anaconda3\\lib\\site-packages (from matplotlib>=3.0.2->pingouin) (21.3)\n",
      "Requirement already satisfied: pyparsing>=2.2.1 in c:\\users\\adm\\anaconda3\\lib\\site-packages (from matplotlib>=3.0.2->pingouin) (3.0.4)\n",
      "Requirement already satisfied: fonttools>=4.22.0 in c:\\users\\adm\\anaconda3\\lib\\site-packages (from matplotlib>=3.0.2->pingouin) (4.25.0)\n",
      "Requirement already satisfied: cycler>=0.10 in c:\\users\\adm\\anaconda3\\lib\\site-packages (from matplotlib>=3.0.2->pingouin) (0.11.0)\n",
      "Requirement already satisfied: kiwisolver>=1.0.1 in c:\\users\\adm\\anaconda3\\lib\\site-packages (from matplotlib>=3.0.2->pingouin) (1.3.2)\n",
      "Requirement already satisfied: python-dateutil>=2.7 in c:\\users\\adm\\anaconda3\\lib\\site-packages (from matplotlib>=3.0.2->pingouin) (2.8.2)\n",
      "Requirement already satisfied: pillow>=6.2.0 in c:\\users\\adm\\anaconda3\\lib\\site-packages (from matplotlib>=3.0.2->pingouin) (9.0.1)\n",
      "Requirement already satisfied: pytz>=2020.1 in c:\\users\\adm\\anaconda3\\lib\\site-packages (from pandas>=1.0->pingouin) (2021.3)\n",
      "Requirement already satisfied: xarray in c:\\users\\adm\\anaconda3\\lib\\site-packages (from pandas-flavor>=0.2.0->pingouin) (0.20.1)\n",
      "Requirement already satisfied: lazy-loader==0.1rc2 in c:\\users\\adm\\anaconda3\\lib\\site-packages (from pandas-flavor>=0.2.0->pingouin) (0.1rc2)\n",
      "Requirement already satisfied: six>=1.5 in c:\\users\\adm\\anaconda3\\lib\\site-packages (from python-dateutil>=2.7->matplotlib>=3.0.2->pingouin) (1.16.0)\n",
      "Requirement already satisfied: threadpoolctl>=2.0.0 in c:\\users\\adm\\anaconda3\\lib\\site-packages (from scikit-learn<1.1.0->pingouin) (2.2.0)\n",
      "Requirement already satisfied: joblib>=0.11 in c:\\users\\adm\\anaconda3\\lib\\site-packages (from scikit-learn<1.1.0->pingouin) (1.1.0)\n",
      "Requirement already satisfied: patsy>=0.5.2 in c:\\users\\adm\\anaconda3\\lib\\site-packages (from statsmodels>=0.13->pingouin) (0.5.2)\n",
      "Requirement already satisfied: requests in c:\\users\\adm\\anaconda3\\lib\\site-packages (from outdated->pingouin) (2.27.1)\n",
      "Requirement already satisfied: littleutils in c:\\users\\adm\\anaconda3\\lib\\site-packages (from outdated->pingouin) (0.2.2)\n",
      "Requirement already satisfied: idna<4,>=2.5 in c:\\users\\adm\\anaconda3\\lib\\site-packages (from requests->outdated->pingouin) (3.3)\n",
      "Requirement already satisfied: charset-normalizer~=2.0.0 in c:\\users\\adm\\anaconda3\\lib\\site-packages (from requests->outdated->pingouin) (2.0.4)\n",
      "Requirement already satisfied: urllib3<1.27,>=1.21.1 in c:\\users\\adm\\anaconda3\\lib\\site-packages (from requests->outdated->pingouin) (1.26.9)\n",
      "Requirement already satisfied: certifi>=2017.4.17 in c:\\users\\adm\\anaconda3\\lib\\site-packages (from requests->outdated->pingouin) (2021.10.8)\n"
     ]
    }
   ],
   "source": [
    "!pip install pingouin"
   ]
  },
  {
   "cell_type": "code",
   "execution_count": 3,
   "id": "2f9ae4a7",
   "metadata": {},
   "outputs": [],
   "source": [
    "df = pd.read_csv(\"exams.csv\", sep = ',')"
   ]
  },
  {
   "cell_type": "code",
   "execution_count": 52,
   "id": "ee1d64a7",
   "metadata": {},
   "outputs": [
    {
     "data": {
      "text/html": [
       "<div>\n",
       "<style scoped>\n",
       "    .dataframe tbody tr th:only-of-type {\n",
       "        vertical-align: middle;\n",
       "    }\n",
       "\n",
       "    .dataframe tbody tr th {\n",
       "        vertical-align: top;\n",
       "    }\n",
       "\n",
       "    .dataframe thead th {\n",
       "        text-align: right;\n",
       "    }\n",
       "</style>\n",
       "<table border=\"1\" class=\"dataframe\">\n",
       "  <thead>\n",
       "    <tr style=\"text-align: right;\">\n",
       "      <th></th>\n",
       "      <th>gender</th>\n",
       "      <th>race</th>\n",
       "      <th>parent_education_level</th>\n",
       "      <th>lunch</th>\n",
       "      <th>test_prep_course</th>\n",
       "      <th>math</th>\n",
       "    </tr>\n",
       "  </thead>\n",
       "  <tbody>\n",
       "    <tr>\n",
       "      <th>0</th>\n",
       "      <td>female</td>\n",
       "      <td>group B</td>\n",
       "      <td>bachelor's degree</td>\n",
       "      <td>standard</td>\n",
       "      <td>none</td>\n",
       "      <td>72</td>\n",
       "    </tr>\n",
       "    <tr>\n",
       "      <th>1</th>\n",
       "      <td>female</td>\n",
       "      <td>group C</td>\n",
       "      <td>some college</td>\n",
       "      <td>standard</td>\n",
       "      <td>completed</td>\n",
       "      <td>69</td>\n",
       "    </tr>\n",
       "    <tr>\n",
       "      <th>2</th>\n",
       "      <td>female</td>\n",
       "      <td>group B</td>\n",
       "      <td>master's degree</td>\n",
       "      <td>standard</td>\n",
       "      <td>none</td>\n",
       "      <td>90</td>\n",
       "    </tr>\n",
       "    <tr>\n",
       "      <th>3</th>\n",
       "      <td>male</td>\n",
       "      <td>group A</td>\n",
       "      <td>associate's degree</td>\n",
       "      <td>free/reduced</td>\n",
       "      <td>none</td>\n",
       "      <td>47</td>\n",
       "    </tr>\n",
       "    <tr>\n",
       "      <th>4</th>\n",
       "      <td>male</td>\n",
       "      <td>group C</td>\n",
       "      <td>some college</td>\n",
       "      <td>standard</td>\n",
       "      <td>none</td>\n",
       "      <td>76</td>\n",
       "    </tr>\n",
       "    <tr>\n",
       "      <th>...</th>\n",
       "      <td>...</td>\n",
       "      <td>...</td>\n",
       "      <td>...</td>\n",
       "      <td>...</td>\n",
       "      <td>...</td>\n",
       "      <td>...</td>\n",
       "    </tr>\n",
       "    <tr>\n",
       "      <th>995</th>\n",
       "      <td>female</td>\n",
       "      <td>group E</td>\n",
       "      <td>master's degree</td>\n",
       "      <td>standard</td>\n",
       "      <td>completed</td>\n",
       "      <td>88</td>\n",
       "    </tr>\n",
       "    <tr>\n",
       "      <th>996</th>\n",
       "      <td>male</td>\n",
       "      <td>group C</td>\n",
       "      <td>high school</td>\n",
       "      <td>free/reduced</td>\n",
       "      <td>none</td>\n",
       "      <td>62</td>\n",
       "    </tr>\n",
       "    <tr>\n",
       "      <th>997</th>\n",
       "      <td>female</td>\n",
       "      <td>group C</td>\n",
       "      <td>high school</td>\n",
       "      <td>free/reduced</td>\n",
       "      <td>completed</td>\n",
       "      <td>59</td>\n",
       "    </tr>\n",
       "    <tr>\n",
       "      <th>998</th>\n",
       "      <td>female</td>\n",
       "      <td>group D</td>\n",
       "      <td>some college</td>\n",
       "      <td>standard</td>\n",
       "      <td>completed</td>\n",
       "      <td>68</td>\n",
       "    </tr>\n",
       "    <tr>\n",
       "      <th>999</th>\n",
       "      <td>female</td>\n",
       "      <td>group D</td>\n",
       "      <td>some college</td>\n",
       "      <td>free/reduced</td>\n",
       "      <td>none</td>\n",
       "      <td>77</td>\n",
       "    </tr>\n",
       "  </tbody>\n",
       "</table>\n",
       "<p>1000 rows × 6 columns</p>\n",
       "</div>"
      ],
      "text/plain": [
       "     gender     race parent_education_level         lunch test_prep_course  \\\n",
       "0    female  group B      bachelor's degree      standard             none   \n",
       "1    female  group C           some college      standard        completed   \n",
       "2    female  group B        master's degree      standard             none   \n",
       "3      male  group A     associate's degree  free/reduced             none   \n",
       "4      male  group C           some college      standard             none   \n",
       "..      ...      ...                    ...           ...              ...   \n",
       "995  female  group E        master's degree      standard        completed   \n",
       "996    male  group C            high school  free/reduced             none   \n",
       "997  female  group C            high school  free/reduced        completed   \n",
       "998  female  group D           some college      standard        completed   \n",
       "999  female  group D           some college  free/reduced             none   \n",
       "\n",
       "     math  \n",
       "0      72  \n",
       "1      69  \n",
       "2      90  \n",
       "3      47  \n",
       "4      76  \n",
       "..    ...  \n",
       "995    88  \n",
       "996    62  \n",
       "997    59  \n",
       "998    68  \n",
       "999    77  \n",
       "\n",
       "[1000 rows x 6 columns]"
      ]
     },
     "execution_count": 52,
     "metadata": {},
     "output_type": "execute_result"
    }
   ],
   "source": [
    "df"
   ]
  },
  {
   "cell_type": "code",
   "execution_count": null,
   "id": "a013daba",
   "metadata": {},
   "outputs": [],
   "source": []
  },
  {
   "cell_type": "code",
   "execution_count": 53,
   "id": "c0bd06ca",
   "metadata": {},
   "outputs": [
    {
     "data": {
      "text/html": [
       "<div>\n",
       "<style scoped>\n",
       "    .dataframe tbody tr th:only-of-type {\n",
       "        vertical-align: middle;\n",
       "    }\n",
       "\n",
       "    .dataframe tbody tr th {\n",
       "        vertical-align: top;\n",
       "    }\n",
       "\n",
       "    .dataframe thead th {\n",
       "        text-align: right;\n",
       "    }\n",
       "</style>\n",
       "<table border=\"1\" class=\"dataframe\">\n",
       "  <thead>\n",
       "    <tr style=\"text-align: right;\">\n",
       "      <th></th>\n",
       "      <th>gender</th>\n",
       "      <th>race</th>\n",
       "      <th>parent_education_level</th>\n",
       "      <th>lunch</th>\n",
       "      <th>test_prep_course</th>\n",
       "      <th>math</th>\n",
       "    </tr>\n",
       "  </thead>\n",
       "  <tbody>\n",
       "    <tr>\n",
       "      <th>0</th>\n",
       "      <td>female</td>\n",
       "      <td>group B</td>\n",
       "      <td>bachelor's degree</td>\n",
       "      <td>standard</td>\n",
       "      <td>none</td>\n",
       "      <td>72</td>\n",
       "    </tr>\n",
       "    <tr>\n",
       "      <th>1</th>\n",
       "      <td>female</td>\n",
       "      <td>group C</td>\n",
       "      <td>some college</td>\n",
       "      <td>standard</td>\n",
       "      <td>completed</td>\n",
       "      <td>69</td>\n",
       "    </tr>\n",
       "    <tr>\n",
       "      <th>2</th>\n",
       "      <td>female</td>\n",
       "      <td>group B</td>\n",
       "      <td>master's degree</td>\n",
       "      <td>standard</td>\n",
       "      <td>none</td>\n",
       "      <td>90</td>\n",
       "    </tr>\n",
       "    <tr>\n",
       "      <th>3</th>\n",
       "      <td>male</td>\n",
       "      <td>group A</td>\n",
       "      <td>associate's degree</td>\n",
       "      <td>free/reduced</td>\n",
       "      <td>none</td>\n",
       "      <td>47</td>\n",
       "    </tr>\n",
       "    <tr>\n",
       "      <th>4</th>\n",
       "      <td>male</td>\n",
       "      <td>group C</td>\n",
       "      <td>some college</td>\n",
       "      <td>standard</td>\n",
       "      <td>none</td>\n",
       "      <td>76</td>\n",
       "    </tr>\n",
       "    <tr>\n",
       "      <th>...</th>\n",
       "      <td>...</td>\n",
       "      <td>...</td>\n",
       "      <td>...</td>\n",
       "      <td>...</td>\n",
       "      <td>...</td>\n",
       "      <td>...</td>\n",
       "    </tr>\n",
       "    <tr>\n",
       "      <th>995</th>\n",
       "      <td>female</td>\n",
       "      <td>group E</td>\n",
       "      <td>master's degree</td>\n",
       "      <td>standard</td>\n",
       "      <td>completed</td>\n",
       "      <td>88</td>\n",
       "    </tr>\n",
       "    <tr>\n",
       "      <th>996</th>\n",
       "      <td>male</td>\n",
       "      <td>group C</td>\n",
       "      <td>high school</td>\n",
       "      <td>free/reduced</td>\n",
       "      <td>none</td>\n",
       "      <td>62</td>\n",
       "    </tr>\n",
       "    <tr>\n",
       "      <th>997</th>\n",
       "      <td>female</td>\n",
       "      <td>group C</td>\n",
       "      <td>high school</td>\n",
       "      <td>free/reduced</td>\n",
       "      <td>completed</td>\n",
       "      <td>59</td>\n",
       "    </tr>\n",
       "    <tr>\n",
       "      <th>998</th>\n",
       "      <td>female</td>\n",
       "      <td>group D</td>\n",
       "      <td>some college</td>\n",
       "      <td>standard</td>\n",
       "      <td>completed</td>\n",
       "      <td>68</td>\n",
       "    </tr>\n",
       "    <tr>\n",
       "      <th>999</th>\n",
       "      <td>female</td>\n",
       "      <td>group D</td>\n",
       "      <td>some college</td>\n",
       "      <td>free/reduced</td>\n",
       "      <td>none</td>\n",
       "      <td>77</td>\n",
       "    </tr>\n",
       "  </tbody>\n",
       "</table>\n",
       "<p>1000 rows × 6 columns</p>\n",
       "</div>"
      ],
      "text/plain": [
       "     gender     race parent_education_level         lunch test_prep_course  \\\n",
       "0    female  group B      bachelor's degree      standard             none   \n",
       "1    female  group C           some college      standard        completed   \n",
       "2    female  group B        master's degree      standard             none   \n",
       "3      male  group A     associate's degree  free/reduced             none   \n",
       "4      male  group C           some college      standard             none   \n",
       "..      ...      ...                    ...           ...              ...   \n",
       "995  female  group E        master's degree      standard        completed   \n",
       "996    male  group C            high school  free/reduced             none   \n",
       "997  female  group C            high school  free/reduced        completed   \n",
       "998  female  group D           some college      standard        completed   \n",
       "999  female  group D           some college  free/reduced             none   \n",
       "\n",
       "     math  \n",
       "0      72  \n",
       "1      69  \n",
       "2      90  \n",
       "3      47  \n",
       "4      76  \n",
       "..    ...  \n",
       "995    88  \n",
       "996    62  \n",
       "997    59  \n",
       "998    68  \n",
       "999    77  \n",
       "\n",
       "[1000 rows x 6 columns]"
      ]
     },
     "execution_count": 53,
     "metadata": {},
     "output_type": "execute_result"
    }
   ],
   "source": [
    "df.rename(columns={'race/ethnicity': 'race'})"
   ]
  },
  {
   "cell_type": "code",
   "execution_count": 54,
   "id": "f4f22b7a",
   "metadata": {},
   "outputs": [
    {
     "data": {
      "text/plain": [
       "group C    319\n",
       "group D    262\n",
       "group B    190\n",
       "group E    140\n",
       "group A     89\n",
       "Name: race, dtype: int64"
      ]
     },
     "execution_count": 54,
     "metadata": {},
     "output_type": "execute_result"
    }
   ],
   "source": [
    "df.race.value_counts()"
   ]
  },
  {
   "cell_type": "code",
   "execution_count": 55,
   "id": "6ce20cec",
   "metadata": {},
   "outputs": [],
   "source": [
    "df_1=df.query('math>20')"
   ]
  },
  {
   "cell_type": "code",
   "execution_count": 56,
   "id": "1b85147c",
   "metadata": {},
   "outputs": [
    {
     "data": {
      "text/plain": [
       "<AxesSubplot:>"
      ]
     },
     "execution_count": 56,
     "metadata": {},
     "output_type": "execute_result"
    },
    {
     "data": {
      "image/png": "[encoded data removed]",
      "text/plain": [
       "<Figure size 432x288 with 1 Axes>"
      ]
     },
     "metadata": {
      "needs_background": "light"
     },
     "output_type": "display_data"
    }
   ],
   "source": [
    "df_1.math.hist()"
   ]
  },
  {
   "cell_type": "code",
   "execution_count": null,
   "id": "b03f460d",
   "metadata": {},
   "outputs": [],
   "source": []
  },
  {
   "cell_type": "code",
   "execution_count": null,
   "id": "7e9e5f0e",
   "metadata": {},
   "outputs": [],
   "source": [
    "#нулувая гипотеза, что различий между национальностью нет"
   ]
  },
  {
   "cell_type": "code",
   "execution_count": 113,
   "id": "e7e28471",
   "metadata": {},
   "outputs": [],
   "source": [
    "a = df_1.query('race==\"group A\"').math\n",
    "b = df_1.query('race==\"group B\"').math\n",
    "c = df_1.query('race==\"group C\"').math\n",
    "d = df_1.query('race==\"group D\"').math\n",
    "e = df_1.query('race==\"group E\"').math"
   ]
  },
  {
   "cell_type": "code",
   "execution_count": 61,
   "id": "f02150e0",
   "metadata": {},
   "outputs": [],
   "source": [
    "a = df_1.query('race==\"group A\"')\n",
    "b = df_1.query('race==\"group B\"')\n",
    "c = df_1.query('race==\"group C\"')\n",
    "d = df_1.query('race==\"group D\"')\n",
    "e = df_1.query('race==\"group E\"')"
   ]
  },
  {
   "cell_type": "code",
   "execution_count": null,
   "id": "0f29b6ef",
   "metadata": {},
   "outputs": [],
   "source": [
    "#проверка дисперсий на однородность"
   ]
  },
  {
   "cell_type": "code",
   "execution_count": 39,
   "id": "7944aaff",
   "metadata": {},
   "outputs": [
    {
     "data": {
      "text/plain": [
       "LeveneResult(statistic=0.5554664321392196, pvalue=0.6950737218982223)"
      ]
     },
     "execution_count": 39,
     "metadata": {},
     "output_type": "execute_result"
    }
   ],
   "source": [
    "scipy.stats.levene(a, b, c, d,e)"
   ]
  },
  {
   "cell_type": "code",
   "execution_count": null,
   "id": "edab7cb6",
   "metadata": {},
   "outputs": [],
   "source": [
    "#принимаем 0 гипотезу"
   ]
  },
  {
   "cell_type": "code",
   "execution_count": null,
   "id": "21130d44",
   "metadata": {},
   "outputs": [],
   "source": [
    "# проверяем на нормальность распределения"
   ]
  },
  {
   "cell_type": "code",
   "execution_count": 64,
   "id": "a8da1dfa",
   "metadata": {},
   "outputs": [
    {
     "data": {
      "text/html": [
       "<div>\n",
       "<style scoped>\n",
       "    .dataframe tbody tr th:only-of-type {\n",
       "        vertical-align: middle;\n",
       "    }\n",
       "\n",
       "    .dataframe tbody tr th {\n",
       "        vertical-align: top;\n",
       "    }\n",
       "\n",
       "    .dataframe thead th {\n",
       "        text-align: right;\n",
       "    }\n",
       "</style>\n",
       "<table border=\"1\" class=\"dataframe\">\n",
       "  <thead>\n",
       "    <tr style=\"text-align: right;\">\n",
       "      <th></th>\n",
       "      <th>gender</th>\n",
       "      <th>race</th>\n",
       "      <th>parent_education_level</th>\n",
       "      <th>lunch</th>\n",
       "      <th>test_prep_course</th>\n",
       "      <th>math</th>\n",
       "    </tr>\n",
       "  </thead>\n",
       "  <tbody>\n",
       "    <tr>\n",
       "      <th>3</th>\n",
       "      <td>male</td>\n",
       "      <td>group A</td>\n",
       "      <td>associate's degree</td>\n",
       "      <td>free/reduced</td>\n",
       "      <td>none</td>\n",
       "      <td>47</td>\n",
       "    </tr>\n",
       "    <tr>\n",
       "      <th>13</th>\n",
       "      <td>male</td>\n",
       "      <td>group A</td>\n",
       "      <td>some college</td>\n",
       "      <td>standard</td>\n",
       "      <td>completed</td>\n",
       "      <td>78</td>\n",
       "    </tr>\n",
       "    <tr>\n",
       "      <th>14</th>\n",
       "      <td>female</td>\n",
       "      <td>group A</td>\n",
       "      <td>master's degree</td>\n",
       "      <td>standard</td>\n",
       "      <td>none</td>\n",
       "      <td>50</td>\n",
       "    </tr>\n",
       "    <tr>\n",
       "      <th>25</th>\n",
       "      <td>male</td>\n",
       "      <td>group A</td>\n",
       "      <td>master's degree</td>\n",
       "      <td>free/reduced</td>\n",
       "      <td>none</td>\n",
       "      <td>73</td>\n",
       "    </tr>\n",
       "    <tr>\n",
       "      <th>46</th>\n",
       "      <td>female</td>\n",
       "      <td>group A</td>\n",
       "      <td>associate's degree</td>\n",
       "      <td>standard</td>\n",
       "      <td>completed</td>\n",
       "      <td>55</td>\n",
       "    </tr>\n",
       "    <tr>\n",
       "      <th>...</th>\n",
       "      <td>...</td>\n",
       "      <td>...</td>\n",
       "      <td>...</td>\n",
       "      <td>...</td>\n",
       "      <td>...</td>\n",
       "      <td>...</td>\n",
       "    </tr>\n",
       "    <tr>\n",
       "      <th>974</th>\n",
       "      <td>female</td>\n",
       "      <td>group A</td>\n",
       "      <td>some college</td>\n",
       "      <td>standard</td>\n",
       "      <td>none</td>\n",
       "      <td>54</td>\n",
       "    </tr>\n",
       "    <tr>\n",
       "      <th>983</th>\n",
       "      <td>female</td>\n",
       "      <td>group A</td>\n",
       "      <td>some college</td>\n",
       "      <td>standard</td>\n",
       "      <td>completed</td>\n",
       "      <td>78</td>\n",
       "    </tr>\n",
       "    <tr>\n",
       "      <th>985</th>\n",
       "      <td>male</td>\n",
       "      <td>group A</td>\n",
       "      <td>high school</td>\n",
       "      <td>standard</td>\n",
       "      <td>none</td>\n",
       "      <td>57</td>\n",
       "    </tr>\n",
       "    <tr>\n",
       "      <th>988</th>\n",
       "      <td>female</td>\n",
       "      <td>group A</td>\n",
       "      <td>some high school</td>\n",
       "      <td>free/reduced</td>\n",
       "      <td>none</td>\n",
       "      <td>44</td>\n",
       "    </tr>\n",
       "    <tr>\n",
       "      <th>994</th>\n",
       "      <td>male</td>\n",
       "      <td>group A</td>\n",
       "      <td>high school</td>\n",
       "      <td>standard</td>\n",
       "      <td>none</td>\n",
       "      <td>63</td>\n",
       "    </tr>\n",
       "  </tbody>\n",
       "</table>\n",
       "<p>89 rows × 6 columns</p>\n",
       "</div>"
      ],
      "text/plain": [
       "     gender     race parent_education_level         lunch test_prep_course  \\\n",
       "3      male  group A     associate's degree  free/reduced             none   \n",
       "13     male  group A           some college      standard        completed   \n",
       "14   female  group A        master's degree      standard             none   \n",
       "25     male  group A        master's degree  free/reduced             none   \n",
       "46   female  group A     associate's degree      standard        completed   \n",
       "..      ...      ...                    ...           ...              ...   \n",
       "974  female  group A           some college      standard             none   \n",
       "983  female  group A           some college      standard        completed   \n",
       "985    male  group A            high school      standard             none   \n",
       "988  female  group A       some high school  free/reduced             none   \n",
       "994    male  group A            high school      standard             none   \n",
       "\n",
       "     math  \n",
       "3      47  \n",
       "13     78  \n",
       "14     50  \n",
       "25     73  \n",
       "46     55  \n",
       "..    ...  \n",
       "974    54  \n",
       "983    78  \n",
       "985    57  \n",
       "988    44  \n",
       "994    63  \n",
       "\n",
       "[89 rows x 6 columns]"
      ]
     },
     "execution_count": 64,
     "metadata": {},
     "output_type": "execute_result"
    }
   ],
   "source": [
    "a"
   ]
  },
  {
   "cell_type": "code",
   "execution_count": 67,
   "id": "13b09999",
   "metadata": {},
   "outputs": [
    {
     "name": "stdout",
     "output_type": "stream",
     "text": [
      "ShapiroResult(statistic=0.991736114025116, pvalue=0.8545348644256592)\n"
     ]
    }
   ],
   "source": [
    "print(ss.shapiro(a.math.sample(89, random_state=17)))"
   ]
  },
  {
   "cell_type": "code",
   "execution_count": 68,
   "id": "2ad507d5",
   "metadata": {},
   "outputs": [
    {
     "name": "stdout",
     "output_type": "stream",
     "text": [
      "ShapiroResult(statistic=0.9928044080734253, pvalue=0.9132739305496216)\n"
     ]
    }
   ],
   "source": [
    "print(ss.shapiro(b.math.sample(89, random_state=17)))"
   ]
  },
  {
   "cell_type": "code",
   "execution_count": 69,
   "id": "cc0bbe3b",
   "metadata": {},
   "outputs": [
    {
     "name": "stdout",
     "output_type": "stream",
     "text": [
      "ShapiroResult(statistic=0.9866896271705627, pvalue=0.5021828413009644)\n"
     ]
    }
   ],
   "source": [
    "print(ss.shapiro(c.math.sample(89, random_state=17)))"
   ]
  },
  {
   "cell_type": "code",
   "execution_count": 70,
   "id": "ab514145",
   "metadata": {},
   "outputs": [
    {
     "name": "stdout",
     "output_type": "stream",
     "text": [
      "ShapiroResult(statistic=0.9902647733688354, pvalue=0.7564491629600525)\n"
     ]
    }
   ],
   "source": [
    "print(ss.shapiro(d.math.sample(89, random_state=17)))"
   ]
  },
  {
   "cell_type": "code",
   "execution_count": 71,
   "id": "d9abc568",
   "metadata": {},
   "outputs": [
    {
     "name": "stdout",
     "output_type": "stream",
     "text": [
      "ShapiroResult(statistic=0.9808697700500488, pvalue=0.21358738839626312)\n"
     ]
    }
   ],
   "source": [
    "print(ss.shapiro(e.math.sample(89, random_state=17)))"
   ]
  },
  {
   "cell_type": "code",
   "execution_count": null,
   "id": "2fb5c220",
   "metadata": {},
   "outputs": [],
   "source": [
    "#распределение нормальное"
   ]
  },
  {
   "cell_type": "code",
   "execution_count": null,
   "id": "13b4074d",
   "metadata": {},
   "outputs": [],
   "source": [
    "#однофакторный анализ"
   ]
  },
  {
   "cell_type": "code",
   "execution_count": 114,
   "id": "ac88e173",
   "metadata": {},
   "outputs": [
    {
     "data": {
      "text/plain": [
       "F_onewayResult(statistic=14.230353484366937, pvalue=2.6757865311025053e-11)"
      ]
     },
     "execution_count": 114,
     "metadata": {},
     "output_type": "execute_result"
    }
   ],
   "source": [
    "ss.f_oneway(a, b, c, d, e)"
   ]
  },
  {
   "cell_type": "code",
   "execution_count": null,
   "id": "17a545e9",
   "metadata": {},
   "outputs": [],
   "source": [
    "#отклоняем 0 гипотезу"
   ]
  },
  {
   "cell_type": "code",
   "execution_count": 82,
   "id": "f08e0aa0",
   "metadata": {},
   "outputs": [],
   "source": [
    "df_2=pairwise_tukeyhsd(df_1.math, df_1.race).summary()"
   ]
  },
  {
   "cell_type": "code",
   "execution_count": 87,
   "id": "0edb1568",
   "metadata": {},
   "outputs": [
    {
     "data": {
      "text/html": [
       "<table class=\"simpletable\">\n",
       "<caption>Multiple Comparison of Means - Tukey HSD, FWER=0.05</caption>\n",
       "<tr>\n",
       "  <th>group1</th>  <th>group2</th>  <th>meandiff</th>  <th>p-adj</th>  <th>lower</th>   <th>upper</th>  <th>reject</th>\n",
       "</tr>\n",
       "<tr>\n",
       "  <td>group A</td> <td>group B</td>  <td>2.6007</td>  <td>0.6264</td> <td>-2.4678</td> <td>7.6693</td>   <td>False</td>\n",
       "</tr>\n",
       "<tr>\n",
       "  <td>group A</td> <td>group C</td>  <td>3.0375</td>  <td>0.3985</td> <td>-1.6824</td> <td>7.7573</td>   <td>False</td>\n",
       "</tr>\n",
       "<tr>\n",
       "  <td>group A</td> <td>group D</td>  <td>5.7334</td>  <td>0.0106</td> <td>0.9045</td>  <td>10.5623</td>  <td>True</td> \n",
       "</tr>\n",
       "<tr>\n",
       "  <td>group A</td> <td>group E</td>  <td>12.1922</td>   <td>0.0</td>  <td>6.8564</td>  <td>17.528</td>   <td>True</td> \n",
       "</tr>\n",
       "<tr>\n",
       "  <td>group B</td> <td>group C</td>  <td>0.4367</td>  <td>0.9975</td> <td>-3.1903</td> <td>4.0638</td>   <td>False</td>\n",
       "</tr>\n",
       "<tr>\n",
       "  <td>group B</td> <td>group D</td>  <td>3.1326</td>  <td>0.1548</td> <td>-0.6352</td> <td>6.9005</td>   <td>False</td>\n",
       "</tr>\n",
       "<tr>\n",
       "  <td>group B</td> <td>group E</td>  <td>9.5915</td>    <td>0.0</td>  <td>5.1927</td>  <td>13.9903</td>  <td>True</td> \n",
       "</tr>\n",
       "<tr>\n",
       "  <td>group C</td> <td>group D</td>  <td>2.6959</td>  <td>0.1647</td> <td>-0.588</td>  <td>5.9799</td>   <td>False</td>\n",
       "</tr>\n",
       "<tr>\n",
       "  <td>group C</td> <td>group E</td>  <td>9.1548</td>    <td>0.0</td>  <td>5.1627</td>  <td>13.1468</td>  <td>True</td> \n",
       "</tr>\n",
       "<tr>\n",
       "  <td>group D</td> <td>group E</td>  <td>6.4588</td>  <td>0.0002</td> <td>2.3384</td>  <td>10.5793</td>  <td>True</td> \n",
       "</tr>\n",
       "</table>"
      ],
      "text/plain": [
       "<class 'statsmodels.iolib.table.SimpleTable'>"
      ]
     },
     "execution_count": 87,
     "metadata": {},
     "output_type": "execute_result"
    }
   ],
   "source": [
    "df_2"
   ]
  },
  {
   "cell_type": "code",
   "execution_count": null,
   "id": "84c87af6",
   "metadata": {},
   "outputs": [],
   "source": [
    "#Нулевую гипотезу не принимаем, выбираем национальность Е (т.е. люди принадлежащщие к национальности Е имеют больший балл по математике)"
   ]
  },
  {
   "cell_type": "code",
   "execution_count": 96,
   "id": "4a7b4947",
   "metadata": {},
   "outputs": [
    {
     "data": {
      "text/plain": [
       "female    518\n",
       "male      482\n",
       "Name: gender, dtype: int64"
      ]
     },
     "execution_count": 96,
     "metadata": {},
     "output_type": "execute_result"
    }
   ],
   "source": [
    "df.gender.value_counts()"
   ]
  },
  {
   "cell_type": "code",
   "execution_count": 120,
   "id": "66c672fc",
   "metadata": {},
   "outputs": [],
   "source": [
    "f = df_1.query('gender==\"female\"').math\n",
    "j = df_1.query('gender==\"male\"').math"
   ]
  },
  {
   "cell_type": "code",
   "execution_count": 122,
   "id": "f8cb3379",
   "metadata": {},
   "outputs": [
    {
     "data": {
      "text/plain": [
       "F_onewayResult(statistic=25.636312987753477, pvalue=4.910666089618626e-07)"
      ]
     },
     "execution_count": 122,
     "metadata": {},
     "output_type": "execute_result"
    }
   ],
   "source": [
    "ss.f_oneway(f, j)"
   ]
  },
  {
   "cell_type": "code",
   "execution_count": null,
   "id": "a22847b3",
   "metadata": {},
   "outputs": [],
   "source": [
    "#отклоняем 0 гипотезу, что различий нет"
   ]
  },
  {
   "cell_type": "code",
   "execution_count": 124,
   "id": "7aeb7234",
   "metadata": {},
   "outputs": [
    {
     "data": {
      "text/html": [
       "<table class=\"simpletable\">\n",
       "<caption>Multiple Comparison of Means - Tukey HSD, FWER=0.05</caption>\n",
       "<tr>\n",
       "  <th>group1</th> <th>group2</th> <th>meandiff</th> <th>p-adj</th>  <th>lower</th> <th>upper</th> <th>reject</th>\n",
       "</tr>\n",
       "<tr>\n",
       "  <td>female</td>  <td>male</td>   <td>4.6874</td>   <td>0.0</td>  <td>2.8707</td> <td>6.504</td>  <td>True</td> \n",
       "</tr>\n",
       "</table>"
      ],
      "text/plain": [
       "<class 'statsmodels.iolib.table.SimpleTable'>"
      ]
     },
     "execution_count": 124,
     "metadata": {},
     "output_type": "execute_result"
    }
   ],
   "source": [
    "df_3=pairwise_tukeyhsd(df_1.math, df_1.gender).summary()\n",
    "df_3"
   ]
  },
  {
   "cell_type": "code",
   "execution_count": null,
   "id": "b3893761",
   "metadata": {},
   "outputs": [],
   "source": [
    "#у мужчин балл больше чем у женщин"
   ]
  },
  {
   "cell_type": "code",
   "execution_count": 129,
   "id": "db8a5e68",
   "metadata": {
    "scrolled": true
   },
   "outputs": [
    {
     "data": {
      "text/plain": [
       "none         642\n",
       "completed    358\n",
       "Name: test_prep_course, dtype: int64"
      ]
     },
     "execution_count": 129,
     "metadata": {},
     "output_type": "execute_result"
    }
   ],
   "source": [
    "df.test_prep_course.value_counts()"
   ]
  },
  {
   "cell_type": "code",
   "execution_count": 131,
   "id": "45784318",
   "metadata": {},
   "outputs": [],
   "source": [
    "g = df_1.query('test_prep_course==\"none\"').math\n",
    "k = df_1.query('test_prep_course==\"completed\"').math"
   ]
  },
  {
   "cell_type": "code",
   "execution_count": 132,
   "id": "4ae83e75",
   "metadata": {},
   "outputs": [
    {
     "data": {
      "text/plain": [
       "F_onewayResult(statistic=30.19653677123524, pvalue=4.9608359860911716e-08)"
      ]
     },
     "execution_count": 132,
     "metadata": {},
     "output_type": "execute_result"
    }
   ],
   "source": [
    "ss.f_oneway(g, k)"
   ]
  },
  {
   "cell_type": "code",
   "execution_count": null,
   "id": "ba29a63b",
   "metadata": {},
   "outputs": [],
   "source": [
    "#отклоняем 0 гипотезу, что различий нет"
   ]
  },
  {
   "cell_type": "code",
   "execution_count": 133,
   "id": "1cfa581a",
   "metadata": {},
   "outputs": [
    {
     "data": {
      "text/html": [
       "<table class=\"simpletable\">\n",
       "<caption>Multiple Comparison of Means - Tukey HSD, FWER=0.05</caption>\n",
       "<tr>\n",
       "   <th>group1</th>   <th>group2</th> <th>meandiff</th> <th>p-adj</th>  <th>lower</th>   <th>upper</th>  <th>reject</th>\n",
       "</tr>\n",
       "<tr>\n",
       "  <td>completed</td>  <td>none</td>   <td>-5.2864</td>  <td>0.0</td>  <td>-7.1743</td> <td>-3.3986</td>  <td>True</td> \n",
       "</tr>\n",
       "</table>"
      ],
      "text/plain": [
       "<class 'statsmodels.iolib.table.SimpleTable'>"
      ]
     },
     "execution_count": 133,
     "metadata": {},
     "output_type": "execute_result"
    }
   ],
   "source": [
    "df_3=pairwise_tukeyhsd(df_1.math, df_1.test_prep_course).summary()\n",
    "df_3"
   ]
  },
  {
   "cell_type": "code",
   "execution_count": null,
   "id": "2ac344db",
   "metadata": {},
   "outputs": [],
   "source": [
    "#у студентов прошедших курс балл выше"
   ]
  }
 ],
 "metadata": {
  "kernelspec": {
   "display_name": "Python 3 (ipykernel)",
   "language": "python",
   "name": "python3"
  },
  "language_info": {
   "codemirror_mode": {
    "name": "ipython",
    "version": 3
   },
   "file_extension": ".py",
   "mimetype": "text/x-python",
   "name": "python",
   "nbconvert_exporter": "python",
   "pygments_lexer": "ipython3",
   "version": "3.9.12"
  }
 },
 "nbformat": 4,
 "nbformat_minor": 5
}
